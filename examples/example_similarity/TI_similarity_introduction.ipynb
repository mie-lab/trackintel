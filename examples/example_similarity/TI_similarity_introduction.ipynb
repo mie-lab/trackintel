{
 "cells": [
  {
   "cell_type": "markdown",
   "metadata": {},
   "source": [
    "# trackintel Similarity Module \n",
    "demonstration notebook. run the following cells to get an overview what the similarity module provides."
   ]
  },
  {
   "cell_type": "markdown",
   "metadata": {},
   "source": [
    "### import of framework and data"
   ]
  },
  {
   "cell_type": "code",
   "execution_count": null,
   "metadata": {},
   "outputs": [],
   "source": [
    "import trackintel as ti\n",
    "\n",
    "pfs = ti.io.file.read_positionfixes_csv('testtplset.csv')"
   ]
  },
  {
   "cell_type": "markdown",
   "metadata": {},
   "source": [
    "### preprocessing of the trajectories\n",
    "When starting from raw tracking data, the following steps have to be performed:\n",
    "- extract staypoints \n",
    "- extract triplegs\n",
    "\n",
    "the test data are already preprocessed positionfixes. To calculate some similarities between trajectories you always need trajectories as positionfixes. The positionfixes have tripleg_ids to distinguish the trajectories. You can access a single trajectory using command as:"
   ]
  },
  {
   "cell_type": "code",
   "execution_count": null,
   "metadata": {},
   "outputs": [],
   "source": [
    "pfs[pfs['tripleg_id']==22]"
   ]
  },
  {
   "cell_type": "markdown",
   "metadata": {},
   "source": [
    "Let's store two trajectories out of the pfs data frame. "
   ]
  },
  {
   "cell_type": "code",
   "execution_count": null,
   "metadata": {},
   "outputs": [],
   "source": [
    "ta = pfs[pfs['tripleg_id']==22]\n",
    "tb = pfs[pfs['tripleg_id']==33]"
   ]
  },
  {
   "cell_type": "markdown",
   "metadata": {},
   "source": [
    "A trajectory distance between these two can be calculated using the methods available in ti.similarity.measures. These are Dynamic Time Warping (DTW) and Edit Distance on Real Sequences (EDR). An algorithm called Start End Distance is also available, but works a bit different. This one is explained later.\n",
    "\n",
    "The DTW distance of two trajectories can be calculated like this:"
   ]
  },
  {
   "cell_type": "code",
   "execution_count": null,
   "metadata": {},
   "outputs": [],
   "source": [
    "ti.similarity.e_dtw(ta,tb)"
   ]
  },
  {
   "cell_type": "markdown",
   "metadata": {},
   "source": [
    "How can this distance be interpreted? The DTW distance uses a euclidian distance function. So the distance is dependent on the coordinates of the positionfixes. To see this information you can call:"
   ]
  },
  {
   "cell_type": "code",
   "execution_count": null,
   "metadata": {},
   "outputs": [],
   "source": [
    "print(pfs.crs)"
   ]
  },
  {
   "cell_type": "markdown",
   "metadata": {},
   "source": [
    "The crs is empty. To set the initial projection, you can write the EPSG id of the coordinate system in the pfs GeoDataFrame. In this case this would be WGS84 with EPSG id 4326."
   ]
  },
  {
   "cell_type": "code",
   "execution_count": null,
   "metadata": {},
   "outputs": [],
   "source": [
    "pfs.crs='EPSG:4326'"
   ]
  },
  {
   "cell_type": "markdown",
   "metadata": {},
   "source": [
    "To reproject the data set you could call pfs.to_crs(epsg=1234). To avoid changes in the positionfixes, it is recommended to reproject a copy or to reproject directly when calculating the similarity matrix of the data set. In this example the data is reprojected to CH1903+. To calculate a distance matrix with the DTW method, the following code can be executed."
   ]
  },
  {
   "cell_type": "code",
   "execution_count": null,
   "metadata": {},
   "outputs": [],
   "source": [
    "distmatrix = ti.similarity.similarity_matrix(pfs.to_crs(epsg=2056), 'dtw', dist=True)"
   ]
  },
  {
   "cell_type": "markdown",
   "metadata": {},
   "source": [
    "The similarity values are stored in 'simmatrix'. To access a value, normal python matrix syntax can be used, the row and column indices correspond to the tripleg_ids."
   ]
  },
  {
   "cell_type": "code",
   "execution_count": null,
   "metadata": {},
   "outputs": [],
   "source": [
    "distmatrix[22,33]"
   ]
  },
  {
   "cell_type": "markdown",
   "metadata": {},
   "source": [
    "The dtw distance value, compared to the value calculated above, is now in meters. "
   ]
  },
  {
   "cell_type": "markdown",
   "metadata": {},
   "source": [
    "The method similarity matrix can also be executed on a positionfixes object. By not setting the dist parameter to True, the trajectory distances will be inverted. This is recommended for large data sets (or data sets with high tripleg ids), as the matrix will not store zero values and be more performant."
   ]
  },
  {
   "cell_type": "code",
   "execution_count": null,
   "metadata": {},
   "outputs": [],
   "source": [
    "simmatrix = pfs.to_crs(epsg=2056).as_positionfixes.similarity_matrix('dtw')"
   ]
  },
  {
   "cell_type": "code",
   "execution_count": null,
   "metadata": {},
   "outputs": [],
   "source": [
    "simmatrix[22,33]"
   ]
  },
  {
   "cell_type": "markdown",
   "metadata": {},
   "source": [
    "Comparing the two matrices, the distance matrix has at each position a stored value, the similarity matrix stores only the relevant values:"
   ]
  },
  {
   "cell_type": "code",
   "execution_count": null,
   "metadata": {},
   "outputs": [],
   "source": [
    "print(distmatrix)"
   ]
  },
  {
   "cell_type": "code",
   "execution_count": null,
   "metadata": {},
   "outputs": [],
   "source": [
    "print(simmatrix)"
   ]
  }
 ],
 "metadata": {
  "kernelspec": {
   "display_name": "Python 3",
   "language": "python",
   "name": "python3"
  },
  "language_info": {
   "codemirror_mode": {
    "name": "ipython",
    "version": 3
   },
   "file_extension": ".py",
   "mimetype": "text/x-python",
   "name": "python",
   "nbconvert_exporter": "python",
   "pygments_lexer": "ipython3",
   "version": "3.7.6"
  }
 },
 "nbformat": 4,
 "nbformat_minor": 4
}
