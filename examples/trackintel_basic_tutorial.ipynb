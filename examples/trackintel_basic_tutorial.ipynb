{
 "cells": [
  {
   "cell_type": "markdown",
   "id": "latter-young",
   "metadata": {},
   "source": [
    "# Introduction to trackintel\n",
    "\n",
    "This tutorial will show you the most important functionalities of trackintel.\n",
    "\n",
    "Trackintel focuses on the hierachical data model for movement data. The details of each level are explained in [readme.md](https://github.com/mie-lab/trackintel/blob/master/README.md)\n",
    "\n",
    "![title](../docs/assets/hierarchy.png)\n",
    "\n",
    "\n",
    "You can enter the hierarchy from any level and generate higher aggregation data and perform multiple analysis with your input data.\n",
    "\n",
    "To get started, we import trackintel and other necessary libraries.\n",
    "\n"
   ]
  },
  {
   "cell_type": "code",
   "execution_count": null,
   "id": "compact-discretion",
   "metadata": {},
   "outputs": [],
   "source": [
    "# This is not needed if the trackintel library is installed. ==================\n",
    "import sys\n",
    "sys.path.append(\"..\")\n",
    "sys.path.append(\"../trackintel\")\n",
    "# =============================================================================\n",
    "\n",
    "import trackintel as ti\n",
    "import geopandas as gpd\n",
    "import pandas as pd\n",
    "import numpy as np\n",
    "\n",
    "from matplotlib import pyplot as plt\n",
    "%matplotlib inline"
   ]
  },
  {
   "cell_type": "markdown",
   "id": "existing-rwanda",
   "metadata": {},
   "source": [
    "# Data import\n",
    "As a first step, we need to import the raw data and convert it into trackintel compatible format. In this example we use a stored GEOJSON file that contains raw positionfixes, and import it using GeoPandas _read_file()_ function. "
   ]
  },
  {
   "cell_type": "code",
   "execution_count": null,
   "id": "specific-harbor",
   "metadata": {},
   "outputs": [],
   "source": [
    "# we read geojson files using geopandas function\n",
    "gdf = gpd.read_file('./data/pfs_tutorial.geojson')\n",
    "gdf.head(5)"
   ]
  },
  {
   "cell_type": "markdown",
   "id": "parliamentary-panic",
   "metadata": {},
   "source": [
    "gdf is currently a GeoDataFrame (gdf) and not yet ready to used by trackintel. If you try to call a trackintel function (e.g. plotting) on this GeoDataFrame, an error will occur. "
   ]
  },
  {
   "cell_type": "code",
   "execution_count": null,
   "id": "seventh-trouble",
   "metadata": {},
   "outputs": [],
   "source": [
    "# an error will occur as the gdf is not yet transformed\n",
    "# gdf.as_positionfixes.plot()"
   ]
  },
  {
   "cell_type": "markdown",
   "id": "quarterly-player",
   "metadata": {},
   "source": [
    "From the error message it is clear that the column names are not yet recognized by trackintel. We provide helper function to transform a GeoDataFrame object into trackintel compatible format: [positionfixes_from_gpd](https://trackintel.readthedocs.io/en/latest/modules/io.html#geodataframe-import). The method allows to rename the columns and define a timezone. The index is assumed to be the unique identifier of the data."
   ]
  },
  {
   "cell_type": "code",
   "execution_count": null,
   "id": "approximate-anthropology",
   "metadata": {},
   "outputs": [],
   "source": [
    "pfs = ti.io.from_geopandas.read_positionfixes_gpd(gdf, tracked_at=\"time\", user_id=\"User\", geom_col=\"geometry\", tz='UTC')\n",
    "# now you can safely call .as_positionfixes or use any trackintel functions\n",
    "pfs.as_positionfixes.plot()"
   ]
  },
  {
   "cell_type": "markdown",
   "id": "bridal-corner",
   "metadata": {},
   "source": [
    "This is the recommended way to import data. We also provide functions to directly load data from csv files: [read_positionfixes_csv](https://trackintel.readthedocs.io/en/latest/modules/io.html#csv-file-import). Or load data from Geolife dataset: [read_geolife](https://trackintel.readthedocs.io/en/latest/modules/io.html#trackintel.io.dataset_reader.read_geolife)"
   ]
  },
  {
   "cell_type": "code",
   "execution_count": null,
   "id": "coordinate-obligation",
   "metadata": {},
   "outputs": [],
   "source": [
    "# load from csv\n",
    "ti.io.file.read_positionfixes_csv('./data/pfs.csv', tz='UTC', sep=\";\", index_col=\"id\", crs=\"EPSG:4326\")"
   ]
  },
  {
   "cell_type": "code",
   "execution_count": null,
   "id": "legitimate-amber",
   "metadata": {},
   "outputs": [],
   "source": [
    "# Load example geolife dataset\n",
    "pfs, _ = ti.io.dataset_reader.read_geolife('../tests/data/geolife_long')\n",
    "# plot the raw positionfixes\n",
    "pfs.as_positionfixes.plot(plot_osm=True)"
   ]
  },
  {
   "cell_type": "markdown",
   "id": "assumed-aviation",
   "metadata": {},
   "source": [
    "We provide import data functions for each data level. Detailed information can be found in the [I/O module](https://trackintel.readthedocs.io/en/latest/modules/io.html#)"
   ]
  },
  {
   "cell_type": "markdown",
   "id": "linear-conditioning",
   "metadata": {},
   "source": [
    "# Data model generation\n",
    "When the GeoDataFrame is once in the right format, all registered trackintel functions at the positionfixes level can be called using the accessor _as_positionfixes_. The registered functions for each data level are slightly different. Relevant information can be found in the [Model documentation](https://trackintel.readthedocs.io/en/latest/modules/model.html). Of course, functions can always be called directly from the respective module using function names.\n",
    "\n",
    "As an example, we generate the staypoints and triplegs with the raw positionfix data."
   ]
  },
  {
   "cell_type": "code",
   "execution_count": null,
   "id": "furnished-chicken",
   "metadata": {},
   "outputs": [],
   "source": [
    "# generate staypoints from positionfixes. The two lines are equivalent\n",
    "pfs, stps = pfs.as_positionfixes.generate_staypoints(method='sliding', dist_threshold=100, time_threshold=5.0, include_last=False)\n",
    "# pfs, stps = ti.preprocessing.generate_staypoints(pfs, method='sliding', dist_threshold=100, time_threshold=5.0, include_last=False)\n",
    "\n",
    "# generate triplegs from positionfixes and staypoints. \n",
    "pfs, tpls = pfs.as_positionfixes.generate_triplegs(stps, method='between_staypoints', gap_threshold=15)\n",
    "\n",
    "# plot the triplegs together with staypoints and positionfixes\n",
    "tpls.as_triplegs.plot(positionfixes=pfs,staypoints=stps, staypoints_radius=30, plot_osm=True)"
   ]
  },
  {
   "cell_type": "markdown",
   "id": "adjusted-insert",
   "metadata": {},
   "source": [
    "We can also generate trip as aggregation of triplegs to a single activity, see [generate_trips](https://trackintel.readthedocs.io/en/latest/modules/preprocessing.html#trackintel.preprocessing.triplegs.generate_trips) for more information."
   ]
  },
  {
   "cell_type": "code",
   "execution_count": null,
   "id": "hairy-institution",
   "metadata": {},
   "outputs": [],
   "source": [
    "# infer activity label based on duration, here any staypoint larger than 15 min is considered as an activity\n",
    "stps = stps.as_staypoints.create_activity_flag(time_threshold=15)\n",
    "\n",
    "# generate trips with triplegs and staypoints with activity labels\n",
    "stps, tpls, trips = ti.preprocessing.triplegs.generate_trips(stps, tpls, gap_threshold=15)\n",
    "\n",
    "trips.head(5)"
   ]
  },
  {
   "cell_type": "markdown",
   "id": "dress-favorite",
   "metadata": {},
   "source": [
    "# Analysis\n",
    "The [analysis module](https://trackintel.readthedocs.io/en/latest/modules/analysis.html) in *trackintel* focuses on the semantic enrichment and quantitative analysis of human movement data. As an example, we provide labeling functions to infer semantic labels of staypoints and triplegs.\n"
   ]
  },
  {
   "cell_type": "code",
   "execution_count": null,
   "id": "cross-recruitment",
   "metadata": {},
   "outputs": [],
   "source": [
    "# infer activity label based on duration\n",
    "stps = stps.as_staypoints.create_activity_flag(time_threshold=15)\n",
    "\n",
    "# the result is the original staypoint with a column 'activity', indicating whether the stp correspond to an activity\n",
    "stps.head(5)"
   ]
  },
  {
   "cell_type": "code",
   "execution_count": null,
   "id": "activated-qualification",
   "metadata": {},
   "outputs": [],
   "source": [
    "# infer transport mode based on speed \n",
    "tpls = tpls.as_triplegs.predict_transport_mode()\n",
    "\n",
    "# the result is the original tripleg with a column 'mode'\n",
    "tpls.head(5)"
   ]
  },
  {
   "cell_type": "markdown",
   "id": "attempted-first",
   "metadata": {},
   "source": [
    "The tracking coverage of each user can be obtained using [temporal_tracking_quality()](https://trackintel.readthedocs.io/en/latest/modules/analysis.html#trackintel.analysis.tracking_quality.temporal_tracking_quality)"
   ]
  },
  {
   "cell_type": "code",
   "execution_count": null,
   "id": "native-psychiatry",
   "metadata": {},
   "outputs": [],
   "source": [
    "# we concate stps and tpls to get the whole mobility trace\n",
    "trace = stps.append(tpls)\n",
    "# calculate the overall tracking coverage\n",
    "ti.analysis.tracking_quality.temporal_tracking_quality(trace, granularity='all')"
   ]
  },
  {
   "cell_type": "code",
   "execution_count": null,
   "id": "turkish-disability",
   "metadata": {},
   "outputs": [],
   "source": [
    "# or coverage by day or hour\n",
    "ti.analysis.tracking_quality.temporal_tracking_quality(trace, granularity='hour')\n",
    "ti.analysis.tracking_quality.temporal_tracking_quality(trace, granularity='day')"
   ]
  },
  {
   "cell_type": "markdown",
   "id": "genetic-spouse",
   "metadata": {},
   "source": [
    "We can also calculate the modal split of triplegs using [calculate_modal_split()](https://trackintel.readthedocs.io/en/latest/modules/analysis.html#trackintel.analysis.modal_split.calculate_modal_split) and visualize the results using [plot_modal_split()](https://trackintel.readthedocs.io/en/latest/modules/visualization.html#trackintel.visualization.modal_split.plot_modal_split)"
   ]
  },
  {
   "cell_type": "code",
   "execution_count": null,
   "id": "convinced-forestry",
   "metadata": {},
   "outputs": [],
   "source": [
    "# for the modal split we load a special subset of geolife dataset with tripleg modes\n",
    "pfs, labels = ti.io.dataset_reader.read_geolife('../tests/data/geolife_modes')\n",
    "\n",
    "# stps and tpls are generated \n",
    "pfs, stps = pfs.as_positionfixes.generate_staypoints(method=\"sliding\", dist_threshold=25, time_threshold=5)\n",
    "_, tpls = pfs.as_positionfixes.generate_triplegs(stps, method=\"between_staypoints\")\n",
    "\n",
    "# the mode labels are assigned to each tpls\n",
    "tpls_with_modes = ti.io.dataset_reader.geolife_add_modes_to_triplegs(tpls, labels)\n",
    "tpls_with_modes.head(5)"
   ]
  },
  {
   "cell_type": "code",
   "execution_count": null,
   "id": "direct-columbus",
   "metadata": {},
   "outputs": [],
   "source": [
    "# the modal split can then be calculated\n",
    "modal_split = ti.analysis.modal_split.calculate_modal_split(tpls_with_modes, metric=\"count\", freq=\"D\", per_user=False, norm=True)\n",
    "\n",
    "# and visualized\n",
    "ti.visualization.modal_split.plot_modal_split(modal_split, date_fmt_x_axis='%d', y_label='Percentage of daily count', x_label='days')\n",
    "plt.show()"
   ]
  },
  {
   "cell_type": "markdown",
   "id": "improving-running",
   "metadata": {},
   "source": [
    "# Save results\n",
    "The generated data can be exported as csv files using [to_csv() functions](https://trackintel.readthedocs.io/en/latest/modules/io.html#csv-file-export) registered to each data model. For each function in the visualization module, we provide an *out_filename* parameter to directly save the figures as a file."
   ]
  },
  {
   "cell_type": "code",
   "execution_count": null,
   "id": "guided-woman",
   "metadata": {},
   "outputs": [],
   "source": [
    "# save datamodels to csv files\n",
    "pfs.as_positionfixes.to_csv('./out/pfs_tutorial.csv')\n",
    "stps.as_staypoints.to_csv('./out/stps_tutorial.csv')\n",
    "tpls.as_triplegs.to_csv('./out/tpls_tutorial.csv')\n",
    "trips.as_trips.to_csv('./out/trips_tutorial.csv')\n",
    "\n",
    "# out_filename will save the generated plot as a file\n",
    "pfs.as_positionfixes.plot(out_filename='./out/pfs.png')"
   ]
  },
  {
   "cell_type": "markdown",
   "id": "trained-california",
   "metadata": {},
   "source": [
    "For database users, we provide functions and instructions to support the import and export from PostGIS databases. Further information can be found in the [trackintel documentation](https://trackintel.readthedocs.io/en/latest/). \n",
    "\n",
    "Thanks for using trackintel. If you discover any bug and/or have an idea for a usful funcionality feel free to open an [issue](https://github.com/mie-lab/trackintel/issues)"
   ]
  }
 ],
 "metadata": {
  "kernelspec": {
   "display_name": "Python 3",
   "language": "python",
   "name": "python3"
  },
  "language_info": {
   "codemirror_mode": {
    "name": "ipython",
    "version": 3
   },
   "file_extension": ".py",
   "mimetype": "text/x-python",
   "name": "python",
   "nbconvert_exporter": "python",
   "pygments_lexer": "ipython3",
   "version": "3.7.10"
  }
 },
 "nbformat": 4,
 "nbformat_minor": 5
}
