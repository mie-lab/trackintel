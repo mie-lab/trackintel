{
 "cells": [
  {
   "cell_type": "markdown",
   "id": "latter-young",
   "metadata": {},
   "source": [
    "# Introduction to trackintel\n",
    "\n",
    "This tutorial will show you the most important functionalities of trackintel.\n",
    "\n",
    "## Model\n",
    "\n",
    "Trackintel is based on a hierachical data model. \n",
    "![title](../docs/assets/hierarchy.png)\n",
    "\n",
    "The details are explained in readme.md."
   ]
  },
  {
   "cell_type": "markdown",
   "id": "informal-flush",
   "metadata": {},
   "source": [
    "To get started, import the framework using the following command:"
   ]
  },
  {
   "cell_type": "code",
   "execution_count": null,
   "id": "compact-discretion",
   "metadata": {},
   "outputs": [],
   "source": [
    "import trackintel as ti\n",
    "import geopandas as gpd\n",
    "import pandas as pd\n",
    "import os"
   ]
  },
  {
   "cell_type": "markdown",
   "id": "existing-rwanda",
   "metadata": {},
   "source": [
    "As a first step, the data that should be processed has to be importet. In this example we use a stored GEOJSON file, that contains raw positionfixes."
   ]
  },
  {
   "cell_type": "code",
   "execution_count": null,
   "id": "specific-harbor",
   "metadata": {},
   "outputs": [],
   "source": [
    "gdf = gpd.read_file('./data/geolife.geojson')\n",
    "pfs = ti.io.from_geopandas.positionfixes_from_gpd(gdf)"
   ]
  },
  {
   "cell_type": "markdown",
   "id": "parliamentary-panic",
   "metadata": {},
   "source": [
    "The geodataframe (gdf) imported by the GeoPandas read_file function gets validated by calling "
   ]
  }
 ],
 "metadata": {
  "kernelspec": {
   "display_name": "Python 3",
   "language": "python",
   "name": "python3"
  },
  "language_info": {
   "codemirror_mode": {
    "name": "ipython",
    "version": 3
   },
   "file_extension": ".py",
   "mimetype": "text/x-python",
   "name": "python",
   "nbconvert_exporter": "python",
   "pygments_lexer": "ipython3",
   "version": "3.8.8"
  }
 },
 "nbformat": 4,
 "nbformat_minor": 5
}
