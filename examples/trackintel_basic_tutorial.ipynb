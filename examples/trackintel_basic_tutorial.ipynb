{
 "cells": [
  {
   "cell_type": "markdown",
   "id": "latter-young",
   "metadata": {},
   "source": [
    "# Introduction to trackintel\n",
    "\n",
    "This tutorial will show you the most important functionalities of trackintel.\n",
    "\n",
    "## Model\n",
    "\n",
    "Trackintel is based on a hierachical data model. \n",
    "![title](../docs/assets/hierarchy.png)\n",
    "\n",
    "The details are explained in [readme.md](https://github.com/mie-lab/trackintel/blob/master/README.md)"
   ]
  },
  {
   "cell_type": "markdown",
   "id": "informal-flush",
   "metadata": {},
   "source": [
    "To get started, import the framework using the following command. In addition, it is always useful to import also pandas and geopandas."
   ]
  },
  {
   "cell_type": "code",
   "execution_count": null,
   "id": "compact-discretion",
   "metadata": {},
   "outputs": [],
   "source": [
    "# This is not needed if the trackintel library is installed. ==================\n",
    "import sys\n",
    "sys.path.append(\"..\")\n",
    "sys.path.append(\"../trackintel\")\n",
    "# =============================================================================\n",
    "\n",
    "import trackintel as ti\n",
    "import geopandas as gpd\n",
    "import pandas as pd\n",
    "import numpy as np\n",
    "import os"
   ]
  },
  {
   "cell_type": "markdown",
   "id": "existing-rwanda",
   "metadata": {},
   "source": [
    "As a first step, we need to import the data that should be processed. In this example we use a stored GEOJSON file that contains raw positionfixes."
   ]
  },
  {
   "cell_type": "code",
   "execution_count": null,
   "id": "specific-harbor",
   "metadata": {},
   "outputs": [],
   "source": [
    "gdf = gpd.read_file('./data/pfs_tutorial.geojson')"
   ]
  },
  {
   "cell_type": "markdown",
   "id": "parliamentary-panic",
   "metadata": {},
   "source": [
    "This is the recommended way to import data. Nevertheless it is also possible to read csv files directly using [read_positionfixes_csv](https://trackintel.readthedocs.io/en/latest/modules/io.html#csv-file-import).\n",
    "\n",
    "The GeoDataFrame (gdf) imported by the GeoPandas read_file function is not yet in the correct format to be used by trackintel. If you try to call a trackintel function (e.g. plotting) on this GeoDataFrame, an error will occur. "
   ]
  },
  {
   "cell_type": "code",
   "execution_count": null,
   "id": "seventh-trouble",
   "metadata": {},
   "outputs": [],
   "source": [
    "#gdf.as_positionfixes.plot()\n",
    "\n",
    "gdf"
   ]
  },
  {
   "cell_type": "markdown",
   "id": "quarterly-player",
   "metadata": {},
   "source": [
    "To transform the GeoDataFrame into the correct format use the function [positionfixes_from_gpd](https://trackintel.readthedocs.io/en/latest/modules/io.html#geodataframe-import). The method allows to rename the columns, define an index column and define a timezone. If no timezone is defined, UTC is assumed."
   ]
  },
  {
   "cell_type": "code",
   "execution_count": null,
   "id": "approximate-anthropology",
   "metadata": {},
   "outputs": [],
   "source": [
    "pfs = ti.io.from_geopandas.read_positionfixes_gpd(gdf, tz='UTC', \n",
    "                                                  mapper={'User':'user_id','time':'tracked_at', 'geometry':'geom'})\n",
    "pfs.as_positionfixes.plot()"
   ]
  },
  {
   "cell_type": "markdown",
   "id": "whole-niagara",
   "metadata": {},
   "source": [
    "When the GeoDataFrame is once in the right format, all trackintel functions can be called using the accessor _as_positionfixes_ (the other data types can be called as _as_triplegs_, _as_staypoints_, ...). The staypoints and triplegs are generated based on the raw positionfix data."
   ]
  },
  {
   "cell_type": "code",
   "execution_count": null,
   "id": "furnished-chicken",
   "metadata": {},
   "outputs": [],
   "source": [
    "pfs, stps = pfs.as_positionfixes.generate_staypoints(method='sliding', dist_threshold=25, time_threshold=5*60)"
   ]
  },
  {
   "cell_type": "markdown",
   "id": "forty-scanning",
   "metadata": {},
   "source": [
    "Each data type in the model has a plotting function. Let's vizualize the generated staypoints. To get a background map for bigger data sets, use plot_osm=True."
   ]
  },
  {
   "cell_type": "code",
   "execution_count": null,
   "id": "technical-hollow",
   "metadata": {},
   "outputs": [],
   "source": [
    "stps.as_staypoints.plot(positionfixes=pfs, radius=20)"
   ]
  },
  {
   "cell_type": "code",
   "execution_count": null,
   "id": "chemical-sword",
   "metadata": {},
   "outputs": [],
   "source": [
    "pfs, tpls = pfs.as_positionfixes.generate_triplegs(stps, method='between_staypoints')"
   ]
  },
  {
   "cell_type": "code",
   "execution_count": null,
   "id": "stock-diana",
   "metadata": {},
   "outputs": [],
   "source": [
    "tpls.as_triplegs.plot(positionfixes=pfs,staypoints=stps, staypoints_radius=10)\n"
   ]
  },
  {
   "cell_type": "markdown",
   "id": "worthy-label",
   "metadata": {},
   "source": [
    "The generated data can be exported as csv files and reused for further processing directly in trackintel or any other framework."
   ]
  },
  {
   "cell_type": "code",
   "execution_count": null,
   "id": "guided-woman",
   "metadata": {},
   "outputs": [],
   "source": [
    "pfs.as_positionfixes.to_csv('./out/pfs_tutorial.csv')\n",
    "stps.as_staypoints.to_csv('./out/stps_tutorial.csv')\n",
    "tpls.as_triplegs.to_csv('./out/tpls_tutorial.csv')"
   ]
  },
  {
   "cell_type": "markdown",
   "id": "likely-covering",
   "metadata": {},
   "source": [
    "To continue the analysis in a new script, the exported triplegs (or staypoints, positionfixes, ...) can be reimported directly from the csv file. This is done here for demonstration purposes. When reading csv files, it is important to specify the coordinate reference system (crs) with the EPSG code."
   ]
  },
  {
   "cell_type": "code",
   "execution_count": null,
   "id": "reverse-typing",
   "metadata": {},
   "outputs": [],
   "source": [
    "tpls = ti.read_triplegs_csv('./out/tpls_tutorial.csv', index_col=None, crs=4326)"
   ]
  },
  {
   "cell_type": "markdown",
   "id": "complex-bumper",
   "metadata": {},
   "source": [
    "A basic analysis functionality provided by trackintel is the [transport mode prediction](https://trackintel.readthedocs.io/en/latest/modules/analysis.html#transport-mode-identification). Per default it offers a split in to slow, motorized and fast mobility."
   ]
  },
  {
   "cell_type": "code",
   "execution_count": null,
   "id": "polar-private",
   "metadata": {},
   "outputs": [],
   "source": [
    "tpls.as_triplegs.predict_transport_mode()"
   ]
  },
  {
   "cell_type": "markdown",
   "id": "duplicate-craps",
   "metadata": {},
   "source": [
    "The speed categories can also be defined individually by specifying the upper border of the interval corresponding to the category. For example:"
   ]
  },
  {
   "cell_type": "code",
   "execution_count": null,
   "id": "printable-interface",
   "metadata": {},
   "outputs": [],
   "source": [
    "tpls.as_triplegs.predict_transport_mode(categories={5/3.6:'cat1',10/3.6:'cat2',20/3.6:'cat3',np.inf:'cat4'})"
   ]
  },
  {
   "cell_type": "markdown",
   "id": "public-rough",
   "metadata": {},
   "source": [
    "The data set can also be anaylized in terms of temporal coverage/tracking quality. The temporal [tracking quality](https://trackintel.readthedocs.io/en/latest/modules/analysis.html#tracking-quality) can be shown per user in different granularities."
   ]
  },
  {
   "cell_type": "code",
   "execution_count": null,
   "id": "convertible-opportunity",
   "metadata": {},
   "outputs": [],
   "source": [
    "ti.temporal_tracking_quality(tpls, granularity='all')"
   ]
  },
  {
   "cell_type": "markdown",
   "id": "trained-california",
   "metadata": {},
   "source": [
    "Further functions for more detailed analysis and higher aggregation levels (trips, locations, ...) can be found in the [trackintel documentation](https://trackintel.readthedocs.io/en/latest/). \n",
    "\n",
    "Thanks for using trackintel. If you discover any bug and/or have an idea for a usful funcionality feel free to open an [issue](https://github.com/mie-lab/trackintel/issues)"
   ]
  }
 ],
 "metadata": {
  "kernelspec": {
   "display_name": "Python 3",
   "language": "python",
   "name": "python3"
  },
  "language_info": {
   "codemirror_mode": {
    "name": "ipython",
    "version": 3
   },
   "file_extension": ".py",
   "mimetype": "text/x-python",
   "name": "python",
   "nbconvert_exporter": "python",
   "pygments_lexer": "ipython3",
   "version": "3.7.10"
  }
 },
 "nbformat": 4,
 "nbformat_minor": 5
}