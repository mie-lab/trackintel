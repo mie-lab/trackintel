{
 "cells": [
  {
   "cell_type": "markdown",
   "source": [
    "# Introduction to trackintel\r\n",
    "\r\n",
    "This tutorial will show you the most important functionalities of trackintel.\r\n",
    "\r\n",
    "Trackintel focuses on the hierachical data model for movement data. The details of each level are explained in [readme.md](https://github.com/mie-lab/trackintel/blob/master/README.md)\r\n",
    "\r\n",
    "![title](../docs/assets/hierarchy.png)\r\n",
    "\r\n",
    "\r\n",
    "You can enter the hierarchy from any level and generate higher aggregation data and perform multiple analysis with your input data.\r\n",
    "\r\n",
    "To get started, we import trackintel and other necessary libraries.\r\n",
    "\r\n"
   ],
   "metadata": {}
  },
  {
   "cell_type": "code",
   "execution_count": null,
   "source": [
    "# This is not needed if the trackintel library is installed. ==================\r\n",
    "import sys\r\n",
    "sys.path.append(\"..\")\r\n",
    "sys.path.append(\"../trackintel\")\r\n",
    "# =============================================================================\r\n",
    "\r\n",
    "import trackintel as ti\r\n",
    "import geopandas as gpd\r\n",
    "import pandas as pd\r\n",
    "import numpy as np\r\n",
    "\r\n",
    "from matplotlib import pyplot as plt\r\n",
    "%matplotlib inline"
   ],
   "outputs": [],
   "metadata": {}
  },
  {
   "cell_type": "markdown",
   "source": [
    "# Data import\r\n",
    "As a first step, we need to import the raw data and convert it into trackintel compatible format. In this example we use a stored GEOJSON file that contains raw positionfixes, and import it using GeoPandas _read_file()_ function. "
   ],
   "metadata": {}
  },
  {
   "cell_type": "code",
   "execution_count": null,
   "source": [
    "# we read geojson files using geopandas function\r\n",
    "gdf = gpd.read_file('./data/pfs_tutorial.geojson')\r\n",
    "gdf.head(5)"
   ],
   "outputs": [],
   "metadata": {}
  },
  {
   "cell_type": "markdown",
   "source": [
    "gdf is currently a GeoDataFrame (gdf) and not yet ready to used by trackintel. If you try to call a trackintel function (e.g. plotting) on this GeoDataFrame, an error will occur. "
   ],
   "metadata": {}
  },
  {
   "cell_type": "code",
   "execution_count": null,
   "source": [
    "# an error will occur as the gdf is not yet transformed\r\n",
    "# gdf.as_positionfixes.plot()"
   ],
   "outputs": [],
   "metadata": {}
  },
  {
   "cell_type": "markdown",
   "source": [
    "From the error message it is clear that the column names are not yet recognized by trackintel. We provide helper function to transform a GeoDataFrame object into trackintel compatible format: [positionfixes_from_gpd](https://trackintel.readthedocs.io/en/latest/modules/io.html#geodataframe-import). The method allows to rename the columns and define a timezone. The index is assumed to be the unique identifier of the data."
   ],
   "metadata": {}
  },
  {
   "cell_type": "code",
   "execution_count": null,
   "source": [
    "pfs = ti.io.from_geopandas.read_positionfixes_gpd(gdf, tracked_at=\"time\", user_id=\"User\", geom_col=\"geometry\", tz='UTC')\r\n",
    "# now you can safely call .as_positionfixes or use any trackintel functions\r\n",
    "pfs.as_positionfixes.plot()"
   ],
   "outputs": [],
   "metadata": {}
  },
  {
   "cell_type": "markdown",
   "source": [
    "This is the recommended way to import data. We also provide functions to directly load data from csv files: [read_positionfixes_csv](https://trackintel.readthedocs.io/en/latest/modules/io.html#csv-file-import). Or load data from Geolife dataset: [read_geolife](https://trackintel.readthedocs.io/en/latest/modules/io.html#trackintel.io.dataset_reader.read_geolife)"
   ],
   "metadata": {}
  },
  {
   "cell_type": "code",
   "execution_count": null,
   "source": [
    "# load from csv\r\n",
    "ti.io.file.read_positionfixes_csv('./data/pfs.csv', tz='UTC', sep=\";\", index_col=\"id\", crs=\"EPSG:4326\")"
   ],
   "outputs": [],
   "metadata": {}
  },
  {
   "cell_type": "code",
   "execution_count": null,
   "source": [
    "# Load example geolife dataset\r\n",
    "pfs, _ = ti.io.dataset_reader.read_geolife('../tests/data/geolife_long')\r\n",
    "# plot the raw positionfixes\r\n",
    "pfs.as_positionfixes.plot(plot_osm=True)"
   ],
   "outputs": [],
   "metadata": {}
  },
  {
   "cell_type": "markdown",
   "source": [
    "We provide import data functions for each data level. Detailed information can be found in the [I/O module](https://trackintel.readthedocs.io/en/latest/modules/io.html#)"
   ],
   "metadata": {}
  },
  {
   "cell_type": "markdown",
   "source": [
    "# Data model generation\r\n",
    "When the GeoDataFrame is once in the right format, all registered trackintel functions at the positionfixes level can be called using the accessor _as_positionfixes_. The registered functions for each data level are slightly different. Relevant information can be found in the [Model documentation](https://trackintel.readthedocs.io/en/latest/modules/model.html). Of course, functions can always be called directly from the respective module using function names.\r\n",
    "\r\n",
    "As an example, we generate the staypoints and triplegs with the raw positionfix data."
   ],
   "metadata": {}
  },
  {
   "cell_type": "code",
   "execution_count": null,
   "source": [
    "# generate staypoints from positionfixes. The two lines are equivalent\r\n",
    "pfs, sp = pfs.as_positionfixes.generate_staypoints(method='sliding', dist_threshold=100, time_threshold=5.0, include_last=False)\r\n",
    "# pfs, sp = ti.preprocessing.generate_staypoints(pfs, method='sliding', dist_threshold=100, time_threshold=5.0, include_last=False)\r\n",
    "\r\n",
    "# generate triplegs from positionfixes and staypoints. \r\n",
    "pfs, tpls = pfs.as_positionfixes.generate_triplegs(sp, method='between_staypoints', gap_threshold=15)\r\n",
    "\r\n",
    "# plot the triplegs together with staypoints and positionfixes\r\n",
    "tpls.as_triplegs.plot(positionfixes=pfs,staypoints=sp, staypoints_radius=30, plot_osm=True)"
   ],
   "outputs": [],
   "metadata": {}
  },
  {
   "cell_type": "markdown",
   "source": [
    "We can also generate trip as aggregation of triplegs to a single activity, see [generate_trips](https://trackintel.readthedocs.io/en/latest/modules/preprocessing.html#trackintel.preprocessing.triplegs.generate_trips) for more information."
   ],
   "metadata": {}
  },
  {
   "cell_type": "code",
   "execution_count": null,
   "source": [
    "# infer activity label based on duration, here any staypoint larger than 15 min is considered as an activity\r\n",
    "sp = sp.as_staypoints.create_activity_flag(time_threshold=15)\r\n",
    "\r\n",
    "# generate trips with triplegs and staypoints with activity labels\r\n",
    "sp, tpls, trips = ti.preprocessing.triplegs.generate_trips(sp, tpls, gap_threshold=15)\r\n",
    "\r\n",
    "trips.head(5)"
   ],
   "outputs": [],
   "metadata": {}
  },
  {
   "cell_type": "markdown",
   "source": [
    "# Analysis\r\n",
    "The [analysis module](https://trackintel.readthedocs.io/en/latest/modules/analysis.html) in *trackintel* focuses on the semantic enrichment and quantitative analysis of human movement data. As an example, we provide labeling functions to infer semantic labels of staypoints and triplegs.\r\n"
   ],
   "metadata": {}
  },
  {
   "cell_type": "code",
   "execution_count": null,
   "source": [
    "# infer activity label based on duration\r\n",
    "sp = sp.as_staypoints.create_activity_flag(time_threshold=15)\r\n",
    "\r\n",
    "# the result is the original staypoint with a column 'activity', indicating whether the stp correspond to an activity\r\n",
    "sp.head(5)"
   ],
   "outputs": [],
   "metadata": {}
  },
  {
   "cell_type": "code",
   "execution_count": null,
   "source": [
    "# infer transport mode based on speed \r\n",
    "tpls = tpls.as_triplegs.predict_transport_mode()\r\n",
    "\r\n",
    "# the result is the original tripleg with a column 'mode'\r\n",
    "tpls.head(5)"
   ],
   "outputs": [],
   "metadata": {}
  },
  {
   "cell_type": "markdown",
   "source": [
    "The tracking coverage of each user can be obtained using [temporal_tracking_quality()](https://trackintel.readthedocs.io/en/latest/modules/analysis.html#trackintel.analysis.tracking_quality.temporal_tracking_quality)"
   ],
   "metadata": {}
  },
  {
   "cell_type": "code",
   "execution_count": null,
   "source": [
    "# we concate sp and tpls to get the whole mobility trace\r\n",
    "trace = sp.append(tpls)\r\n",
    "# calculate the overall tracking coverage\r\n",
    "ti.analysis.tracking_quality.temporal_tracking_quality(trace, granularity='all')"
   ],
   "outputs": [],
   "metadata": {}
  },
  {
   "cell_type": "code",
   "execution_count": null,
   "source": [
    "# or coverage by day or hour\r\n",
    "ti.analysis.tracking_quality.temporal_tracking_quality(trace, granularity='hour')\r\n",
    "ti.analysis.tracking_quality.temporal_tracking_quality(trace, granularity='day')"
   ],
   "outputs": [],
   "metadata": {}
  },
  {
   "cell_type": "markdown",
   "source": [
    "We can also calculate the modal split of triplegs using [calculate_modal_split()](https://trackintel.readthedocs.io/en/latest/modules/analysis.html#trackintel.analysis.modal_split.calculate_modal_split) and visualize the results using [plot_modal_split()](https://trackintel.readthedocs.io/en/latest/modules/visualization.html#trackintel.visualization.modal_split.plot_modal_split)"
   ],
   "metadata": {}
  },
  {
   "cell_type": "code",
   "execution_count": null,
   "source": [
    "# for the modal split we load a special subset of geolife dataset with tripleg modes\r\n",
    "pfs, labels = ti.io.dataset_reader.read_geolife('../tests/data/geolife_modes')\r\n",
    "\r\n",
    "# sp and tpls are generated \r\n",
    "pfs, sp = pfs.as_positionfixes.generate_staypoints(method=\"sliding\", dist_threshold=25, time_threshold=5)\r\n",
    "_, tpls = pfs.as_positionfixes.generate_triplegs(sp, method=\"between_staypoints\")\r\n",
    "\r\n",
    "# the mode labels are assigned to each tpls\r\n",
    "tpls_with_modes = ti.io.dataset_reader.geolife_add_modes_to_triplegs(tpls, labels)\r\n",
    "tpls_with_modes.head(5)"
   ],
   "outputs": [],
   "metadata": {}
  },
  {
   "cell_type": "code",
   "execution_count": null,
   "source": [
    "# the modal split can then be calculated\r\n",
    "modal_split = ti.analysis.modal_split.calculate_modal_split(tpls_with_modes, metric=\"count\", freq=\"D\", per_user=False, norm=True)\r\n",
    "\r\n",
    "# and visualized\r\n",
    "ti.visualization.modal_split.plot_modal_split(modal_split, date_fmt_x_axis='%d', y_label='Percentage of daily count', x_label='days')\r\n",
    "plt.show()"
   ],
   "outputs": [],
   "metadata": {}
  },
  {
   "cell_type": "markdown",
   "source": [
    "# Save results\r\n",
    "The generated data can be exported as csv files using [to_csv() functions](https://trackintel.readthedocs.io/en/latest/modules/io.html#csv-file-export) registered to each data model. For each function in the visualization module, we provide an *out_filename* parameter to directly save the figures as a file."
   ],
   "metadata": {}
  },
  {
   "cell_type": "code",
   "execution_count": null,
   "source": [
    "# save datamodels to csv files\r\n",
    "pfs.as_positionfixes.to_csv('./out/pfs_tutorial.csv')\r\n",
    "sp.as_staypoints.to_csv('./out/sp_tutorial.csv')\r\n",
    "tpls.as_triplegs.to_csv('./out/tpls_tutorial.csv')\r\n",
    "trips.as_trips.to_csv('./out/trips_tutorial.csv')\r\n",
    "\r\n",
    "# out_filename will save the generated plot as a file\r\n",
    "pfs.as_positionfixes.plot(out_filename='./out/pfs.png')"
   ],
   "outputs": [],
   "metadata": {}
  },
  {
   "cell_type": "markdown",
   "source": [
    "For database users, we provide functions and instructions to support the import and export from PostGIS databases. Further information can be found in the [trackintel documentation](https://trackintel.readthedocs.io/en/latest/). \r\n",
    "\r\n",
    "Thanks for using trackintel. If you discover any bug and/or have an idea for a usful funcionality feel free to open an [issue](https://github.com/mie-lab/trackintel/issues)"
   ],
   "metadata": {}
  }
 ],
 "metadata": {
  "kernelspec": {
   "name": "python3",
   "display_name": "Python 3.7.10 64-bit ('trackintel': conda)"
  },
  "language_info": {
   "codemirror_mode": {
    "name": "ipython",
    "version": 3
   },
   "file_extension": ".py",
   "mimetype": "text/x-python",
   "name": "python",
   "nbconvert_exporter": "python",
   "pygments_lexer": "ipython3",
   "version": "3.7.10"
  },
  "interpreter": {
   "hash": "cb58151668269819293424e8b16c1352afd4c656e5a9e4a905f1bfd6ccd9b830"
  }
 },
 "nbformat": 4,
 "nbformat_minor": 5
}