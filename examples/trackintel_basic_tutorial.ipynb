{
 "cells": [
  {
   "cell_type": "markdown",
   "id": "2ec38dc5",
   "metadata": {},
   "source": [
    "# Introduction to trackintel\n",
    "\n",
    "This tutorial will show you the most important functionalities of trackintel.\n",
    "\n",
    "Trackintel focuses on the hierachical data model for movement data. The details of each level are explained in [readme.md](https://github.com/mie-lab/trackintel/blob/master/README.md)\n",
    "\n",
    "![title](../docs/assets/hierarchy.png)\n",
    "\n",
    "\n",
    "You can enter the hierarchy from any level and generate higher aggregation data and perform multiple analysis with your input data.\n",
    "\n",
    "To get started, we import trackintel and other necessary libraries.\n",
    "\n"
   ]
  },
  {
   "cell_type": "code",
   "execution_count": null,
   "id": "c078a181",
   "metadata": {},
   "outputs": [],
   "source": [
    "# This is not needed if the trackintel library is installed. ==================\n",
    "import sys\n",
    "sys.path.append(\"..\")\n",
    "sys.path.append(\"../trackintel\")\n",
    "# =============================================================================\n",
    "\n",
    "import trackintel as ti\n",
    "import geopandas as gpd\n",
    "import pandas as pd\n",
    "\n",
    "from matplotlib import pyplot as plt\n",
    "%matplotlib inline"
   ]
  },
  {
   "cell_type": "markdown",
   "id": "07d3cb12",
   "metadata": {},
   "source": [
    "# Data import\n",
    "As a first step, we need to import the raw data and convert it into trackintel compatible format. In this example we use a stored GEOJSON file that contains raw positionfixes, and import it using GeoPandas _read_file()_ function. "
   ]
  },
  {
   "cell_type": "code",
   "execution_count": null,
   "id": "d7bb1878",
   "metadata": {},
   "outputs": [],
   "source": [
    "# we read geojson files using geopandas function\n",
    "gdf = gpd.read_file('./data/pfs_tutorial.geojson')\n",
    "gdf.head(5)"
   ]
  },
  {
   "cell_type": "markdown",
   "id": "02f7b1b7",
   "metadata": {},
   "source": [
    "gdf is currently a GeoDataFrame and not in the right shape to be used with trackintel.\n",
    "If you try to create Positionfixes an error will occur."
   ]
  },
  {
   "cell_type": "code",
   "execution_count": null,
   "id": "61e19540",
   "metadata": {},
   "outputs": [],
   "source": [
    "# an error will occur as the gdf is not yet transformed\n",
    "# ti.Positionfixes(gdf)"
   ]
  },
  {
   "cell_type": "markdown",
   "id": "f2dbf1ec",
   "metadata": {},
   "source": [
    "From the error message it is clear that the column names are not yet recognized by trackintel. We provide helper functions to easily transform a GeoDataFrame into trackintel classes. One of them is [positionfixes_from_gpd](https://trackintel.readthedocs.io/en/latest/modules/io.html#geodataframe-import). The method allows to rename the columns and define a timezone. The index is assumed to be the unique identifier of the data."
   ]
  },
  {
   "cell_type": "code",
   "execution_count": null,
   "id": "1c119af6",
   "metadata": {},
   "outputs": [],
   "source": [
    "pfs = ti.io.read_positionfixes_gpd(gdf, tracked_at=\"time\", user_id=\"User\", geom_col=\"geometry\", tz='UTC')\n",
    "# pfs is of class Positionfixes that has the generate_staypoints method\n",
    "pfs.generate_staypoints()"
   ]
  },
  {
   "cell_type": "markdown",
   "id": "2f0f6907",
   "metadata": {},
   "source": [
    "This is the recommended way to import data. We also provide functions to directly load data from csv files: [read_positionfixes_csv](https://trackintel.readthedocs.io/en/latest/modules/io.html#csv-file-import). Or load data from Geolife dataset: [read_geolife](https://trackintel.readthedocs.io/en/latest/modules/io.html#trackintel.io.dataset_reader.read_geolife)"
   ]
  },
  {
   "cell_type": "code",
   "execution_count": null,
   "id": "3bf81815",
   "metadata": {},
   "outputs": [],
   "source": [
    "# load from csv\n",
    "ti.io.read_positionfixes_csv('./data/pfs.csv', tz='UTC', sep=\";\", index_col=\"id\", crs=\"EPSG:4326\")"
   ]
  },
  {
   "cell_type": "code",
   "execution_count": null,
   "id": "16635fb6",
   "metadata": {},
   "outputs": [],
   "source": [
    "# Load example geolife dataset\n",
    "pfs, _ = ti.io.read_geolife('../tests/data/geolife_long')\n",
    "# plot the raw positionfixes\n",
    "ti.plot(positionfixes=pfs, plot_osm=True)"
   ]
  },
  {
   "cell_type": "markdown",
   "id": "786328cf",
   "metadata": {},
   "source": [
    "Once imported trackintel classes like Positionfixes can be used like GeoDataFrames"
   ]
  },
  {
   "cell_type": "code",
   "execution_count": null,
   "id": "11476fde",
   "metadata": {},
   "outputs": [],
   "source": [
    "pfs[\"new_column\"] = 1\n",
    "pfs.head()"
   ]
  },
  {
   "cell_type": "markdown",
   "id": "701bef7f",
   "metadata": {},
   "source": [
    "We provide import data functions for each data level. Detailed information can be found in the [I/O module](https://trackintel.readthedocs.io/en/latest/modules/io.html#)"
   ]
  },
  {
   "cell_type": "markdown",
   "id": "57b359cd",
   "metadata": {},
   "source": [
    "# Data model generation\n",
    "All trackintel classes have of course different methods available depending on the data level.\n",
    "Relevant information can be found in the [Model documentation](https://trackintel.readthedocs.io/en/latest/modules/model.html). Equivalent functions exist for every method and can be called directly from the respective module.\n",
    "\n",
    "As an example, we generate the staypoints and triplegs with the raw positionfix data."
   ]
  },
  {
   "cell_type": "code",
   "execution_count": null,
   "id": "d5134f2c",
   "metadata": {},
   "outputs": [],
   "source": [
    "# generate staypoints from positionfixes. The two lines are equivalent\n",
    "pfs, sp = pfs.generate_staypoints(method='sliding', dist_threshold=100, time_threshold=5.0, include_last=False)\n",
    "# pfs, sp = ti.preprocessing.generate_staypoints(pfs, method='sliding', dist_threshold=100, time_threshold=5.0, include_last=False)\n",
    "\n",
    "# generate triplegs from positionfixes and staypoints. \n",
    "pfs, tpls = pfs.generate_triplegs(sp, method='between_staypoints', gap_threshold=15)\n",
    "# pfs, tpls = ti.preprocessing.generate_triplegs(pfs, sp, method=\"between_staypoints\", gap_threshold=15)\n",
    "\n",
    "# plot the triplegs together with staypoints and positionfixes\n",
    "ti.plot(triplegs=tpls, positionfixes=pfs, staypoints=sp, radius_sp=30, plot_osm=True)"
   ]
  },
  {
   "cell_type": "markdown",
   "id": "a7e7d6a6",
   "metadata": {},
   "source": [
    "We can also generate trip as aggregation of triplegs to a single activity, see [generate_trips](https://trackintel.readthedocs.io/en/latest/modules/preprocessing.html#trackintel.preprocessing.triplegs.generate_trips) for more information."
   ]
  },
  {
   "cell_type": "code",
   "execution_count": null,
   "id": "b9125efb",
   "metadata": {},
   "outputs": [],
   "source": [
    "# infer activity label based on duration, here any staypoint larger than 15 min is considered as an activity\n",
    "sp = sp.create_activity_flag(time_threshold=15)\n",
    "\n",
    "# generate trips with triplegs and staypoints with activity labels\n",
    "sp, tpls, trips = ti.preprocessing.generate_trips(sp, tpls, gap_threshold=15)\n",
    "\n",
    "trips.head(5)"
   ]
  },
  {
   "cell_type": "markdown",
   "id": "6c77991b",
   "metadata": {},
   "source": [
    "# Analysis\n",
    "The [analysis module](https://trackintel.readthedocs.io/en/latest/modules/analysis.html) in *trackintel* focuses on the semantic enrichment and quantitative analysis of human movement data. As an example, we provide labeling functions to infer semantic labels of staypoints and triplegs.\n"
   ]
  },
  {
   "cell_type": "code",
   "execution_count": null,
   "id": "de38dfc0",
   "metadata": {},
   "outputs": [],
   "source": [
    "# infer activity label based on duration\n",
    "sp = sp.create_activity_flag(time_threshold=15)\n",
    "\n",
    "# the result is the original staypoint with a column 'is_activity', indicating whether the stp correspond to an activity\n",
    "sp.head(5)"
   ]
  },
  {
   "cell_type": "code",
   "execution_count": null,
   "id": "da958831",
   "metadata": {},
   "outputs": [],
   "source": [
    "# infer transport mode based on speed \n",
    "tpls = tpls.predict_transport_mode()\n",
    "\n",
    "# the result is the original tripleg with a column 'mode'\n",
    "tpls.head(5)"
   ]
  },
  {
   "cell_type": "markdown",
   "id": "e7403f30",
   "metadata": {},
   "source": [
    "The tracking coverage of each user can be obtained using [temporal_tracking_quality()](https://trackintel.readthedocs.io/en/latest/modules/analysis.html#trackintel.analysis.tracking_quality.temporal_tracking_quality)"
   ]
  },
  {
   "cell_type": "code",
   "execution_count": null,
   "id": "5f1967db",
   "metadata": {},
   "outputs": [],
   "source": [
    "# we concate sp and tpls to get the whole mobility trace\n",
    "trace = pd.concat([sp, tpls])\n",
    "\n",
    "# calculate the overall tracking coverage\n",
    "ti.analysis.temporal_tracking_quality(trace, granularity='all')"
   ]
  },
  {
   "cell_type": "code",
   "execution_count": null,
   "id": "9821424a",
   "metadata": {},
   "outputs": [],
   "source": [
    "# or coverage by day or hour\n",
    "ti.analysis.temporal_tracking_quality(trace, granularity='hour')\n",
    "ti.analysis.temporal_tracking_quality(trace, granularity='day')"
   ]
  },
  {
   "cell_type": "markdown",
   "id": "6ce87568",
   "metadata": {},
   "source": [
    "We can also calculate the modal split of triplegs using [calculate_modal_split()](https://trackintel.readthedocs.io/en/latest/modules/analysis.html#trackintel.analysis.modal_split.calculate_modal_split) and visualize the results using [plot_modal_split()](https://trackintel.readthedocs.io/en/latest/modules/visualization.html#trackintel.visualization.modal_split.plot_modal_split)"
   ]
  },
  {
   "cell_type": "code",
   "execution_count": null,
   "id": "ffaa95c9",
   "metadata": {},
   "outputs": [],
   "source": [
    "# for the modal split we load a special subset of geolife dataset with tripleg modes\n",
    "pfs, labels = ti.io.read_geolife('../tests/data/geolife_modes')\n",
    "\n",
    "# sp and tpls are generated \n",
    "pfs, sp = pfs.generate_staypoints(method=\"sliding\", dist_threshold=25, time_threshold=5)\n",
    "_, tpls = pfs.generate_triplegs(sp, method=\"between_staypoints\")\n",
    "\n",
    "# the mode labels are assigned to each tpls\n",
    "tpls_with_modes = ti.io.geolife_add_modes_to_triplegs(tpls, labels)\n",
    "tpls_with_modes.head(5)"
   ]
  },
  {
   "cell_type": "code",
   "execution_count": null,
   "id": "0d53e393",
   "metadata": {},
   "outputs": [],
   "source": [
    "# the modal split can then be calculated\n",
    "modal_split = ti.analysis.calculate_modal_split(tpls_with_modes, metric=\"count\", freq=\"D\", per_user=False, norm=True)\n",
    "\n",
    "# and visualized\n",
    "ti.plot_modal_split(modal_split, date_fmt_x_axis='%d', y_label='Percentage of daily count', x_label='days')\n",
    "plt.show()"
   ]
  },
  {
   "cell_type": "markdown",
   "id": "eab89b4d",
   "metadata": {},
   "source": [
    "# Save results\n",
    "The generated data can be exported as csv files using [`to_csv()` functions](https://trackintel.readthedocs.io/en/latest/modules/io.html#csv-file-export) registered to each data model. For each function in the visualization module, we provide an `filename` parameter to directly save the figures as a file."
   ]
  },
  {
   "cell_type": "code",
   "execution_count": null,
   "id": "c5f6aca5",
   "metadata": {},
   "outputs": [],
   "source": [
    "# save datamodels to csv files\n",
    "pfs.to_csv('./out/pfs_tutorial.csv')\n",
    "sp.to_csv('./out/sp_tutorial.csv')\n",
    "tpls.to_csv('./out/tpls_tutorial.csv')\n",
    "trips.to_csv('./out/trips_tutorial.csv')\n",
    "\n",
    "# filename will save the generated plot as a file\n",
    "ti.plot(filename='./out/pfs.png', positionfixes=pfs)"
   ]
  },
  {
   "cell_type": "markdown",
   "id": "dc4894f4",
   "metadata": {},
   "source": [
    "For database users, we provide functions and instructions to support the import and export from PostGIS databases. Further information can be found in the [trackintel documentation](https://trackintel.readthedocs.io/en/latest/). \n",
    "\n",
    "Thanks for using trackintel. If you discover any bug and/or have an idea for a usful funcionality feel free to open an [issue](https://github.com/mie-lab/trackintel/issues)"
   ]
  }
 ],
 "metadata": {
  "kernelspec": {
   "display_name": "Python 3.8.12 ('trackintel')",
   "language": "python",
   "name": "python3"
  },
  "language_info": {
   "codemirror_mode": {
    "name": "ipython",
    "version": 3
   },
   "file_extension": ".py",
   "mimetype": "text/x-python",
   "name": "python",
   "nbconvert_exporter": "python",
   "pygments_lexer": "ipython3",
   "version": "3.10.9"
  },
  "vscode": {
   "interpreter": {
    "hash": "6497d658b2bb35b7976baf88daa43c0f2db416478e7c9638d45118bda9586a45"
   }
  }
 },
 "nbformat": 4,
 "nbformat_minor": 5
}
